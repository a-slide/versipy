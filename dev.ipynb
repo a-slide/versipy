{
 "cells": [
  {
   "cell_type": "code",
   "execution_count": 2,
   "metadata": {
    "ExecuteTime": {
     "end_time": "2020-10-23T15:22:34.690100Z",
     "start_time": "2020-10-23T15:22:34.589311Z"
    },
    "init_cell": true
   },
   "outputs": [],
   "source": [
    "from versipy.common import *\n",
    "from versipy.versipy import bump_up_version, current_version, set_version"
   ]
  },
  {
   "cell_type": "code",
   "execution_count": 3,
   "metadata": {
    "ExecuteTime": {
     "end_time": "2020-10-23T15:22:35.294524Z",
     "start_time": "2020-10-23T15:22:35.270080Z"
    }
   },
   "outputs": [
    {
     "name": "stderr",
     "output_type": "stream",
     "text": [
      "\u001b[01;34m## Bump up version package version ##\u001b[0m\n",
      "\u001b[32m\tChecking options and input files\u001b[0m\n",
      "\u001b[37m\t[DEBUG]: Options summary\u001b[0m\n",
      "\u001b[37m\t[DEBUG]: \tTimestamp: 2020-10-23 16:22:35.271309\u001b[0m\n",
      "\u001b[37m\t[DEBUG]: \tversipy_fn: versipy.yaml\u001b[0m\n",
      "\u001b[37m\t[DEBUG]: \tverbose: True\u001b[0m\n",
      "\u001b[37m\t[DEBUG]: \tquiet: False\u001b[0m\n",
      "\u001b[37m\t[DEBUG]: \tkwargs\u001b[0m\n",
      "\u001b[37m\t[DEBUG]: Loading versipy YAML file\u001b[0m\n",
      "\u001b[37m\t[DEBUG]: Checking file structure\u001b[0m\n",
      "\u001b[37m\t[DEBUG]: Checking version\u001b[0m\n"
     ]
    },
    {
     "name": "stdout",
     "output_type": "stream",
     "text": [
      "1.0.0"
     ]
    }
   ],
   "source": [
    "current_version(verbose=True)"
   ]
  },
  {
   "cell_type": "code",
   "execution_count": 6,
   "metadata": {
    "ExecuteTime": {
     "end_time": "2020-10-23T15:23:06.555667Z",
     "start_time": "2020-10-23T15:23:06.499409Z"
    }
   },
   "outputs": [
    {
     "name": "stderr",
     "output_type": "stream",
     "text": [
      "\u001b[01;34m## Bump up version package version ##\u001b[0m\n",
      "\u001b[32m\tChecking options and input files\u001b[0m\n",
      "\u001b[37m\t[DEBUG]: Options summary\u001b[0m\n",
      "\u001b[37m\t[DEBUG]: \tTimestamp: 2020-10-23 16:23:06.501045\u001b[0m\n",
      "\u001b[37m\t[DEBUG]: \tversion_str: 0.1.2a2.dev1\u001b[0m\n",
      "\u001b[37m\t[DEBUG]: \tversipy_fn: versipy.yaml\u001b[0m\n",
      "\u001b[37m\t[DEBUG]: \tversipy_history_fn: versipy_history.txt\u001b[0m\n",
      "\u001b[37m\t[DEBUG]: \toverwrite_all: True\u001b[0m\n",
      "\u001b[37m\t[DEBUG]: \tgit_push: False\u001b[0m\n",
      "\u001b[37m\t[DEBUG]: \tmessage: Manually set version\u001b[0m\n",
      "\u001b[37m\t[DEBUG]: \tverbose: True\u001b[0m\n",
      "\u001b[37m\t[DEBUG]: \tquiet: False\u001b[0m\n",
      "\u001b[37m\t[DEBUG]: \tkwargs\u001b[0m\n",
      "\u001b[37m\t[DEBUG]: Loading versipy YAML file\u001b[0m\n",
      "\u001b[37m\t[DEBUG]: Checking file structure\u001b[0m\n",
      "\u001b[37m\t[DEBUG]: Checking version\u001b[0m\n",
      "\u001b[32m\tSet version number\u001b[0m\n",
      "\u001b[37m\t[DEBUG]: Split version number into a list\u001b[0m\n",
      "\u001b[37m\t[DEBUG]: Store list values in version dictionary\u001b[0m\n",
      "\u001b[37m\t[DEBUG]: Updated version values\u001b[0m\n",
      "\u001b[37m\t[DEBUG]: \tmajor: 0\u001b[0m\n",
      "\u001b[37m\t[DEBUG]: \tminor: 1\u001b[0m\n",
      "\u001b[37m\t[DEBUG]: \tmicro: 2\u001b[0m\n",
      "\u001b[37m\t[DEBUG]: \ta: 2\u001b[0m\n",
      "\u001b[37m\t[DEBUG]: \tb: None\u001b[0m\n",
      "\u001b[37m\t[DEBUG]: \trc: None\u001b[0m\n",
      "\u001b[37m\t[DEBUG]: \tpost: None\u001b[0m\n",
      "\u001b[37m\t[DEBUG]: \tdev: 1\u001b[0m\n",
      "\u001b[32m\tUpdate managed files\u001b[0m\n",
      "\u001b[37m\t[DEBUG]: Updating file setup.py\u001b[0m\n",
      "\u001b[37m\t[DEBUG]: Updating file meta.yaml\u001b[0m\n",
      "\u001b[37m\t[DEBUG]: Updating file versipy/__init__.py\u001b[0m\n",
      "\u001b[37m\t[DEBUG]: Updating versipy template yaml file\u001b[0m\n",
      "\u001b[37m\t[DEBUG]: Updating versipy history file\u001b[0m\n",
      "\u001b[01;34m## Version updated: 1.0.0 > 0.1.2a2.dev1 ##\u001b[0m\n"
     ]
    }
   ],
   "source": [
    "set_version(\"0.1.2a2.dev1\", overwrite_all=True, verbose=True)"
   ]
  },
  {
   "cell_type": "code",
   "execution_count": 7,
   "metadata": {
    "ExecuteTime": {
     "end_time": "2020-10-23T15:23:24.308023Z",
     "start_time": "2020-10-23T15:23:24.244073Z"
    }
   },
   "outputs": [
    {
     "name": "stderr",
     "output_type": "stream",
     "text": [
      "\u001b[01;34m## Bump up version package version ##\u001b[0m\n",
      "\u001b[32m\tChecking options and input files\u001b[0m\n",
      "\u001b[37m\t[DEBUG]: Options summary\u001b[0m\n",
      "\u001b[37m\t[DEBUG]: \tTimestamp: 2020-10-23 16:23:24.245717\u001b[0m\n",
      "\u001b[37m\t[DEBUG]: \tmajor: False\u001b[0m\n",
      "\u001b[37m\t[DEBUG]: \tminor: False\u001b[0m\n",
      "\u001b[37m\t[DEBUG]: \tmicro: True\u001b[0m\n",
      "\u001b[37m\t[DEBUG]: \ta: False\u001b[0m\n",
      "\u001b[37m\t[DEBUG]: \tb: False\u001b[0m\n",
      "\u001b[37m\t[DEBUG]: \trc: False\u001b[0m\n",
      "\u001b[37m\t[DEBUG]: \tpost: True\u001b[0m\n",
      "\u001b[37m\t[DEBUG]: \tdev: False\u001b[0m\n",
      "\u001b[37m\t[DEBUG]: \tversipy_fn: versipy.yaml\u001b[0m\n",
      "\u001b[37m\t[DEBUG]: \tversipy_history_fn: versipy_history.txt\u001b[0m\n",
      "\u001b[37m\t[DEBUG]: \toverwrite_all: True\u001b[0m\n",
      "\u001b[37m\t[DEBUG]: \tgit_push: False\u001b[0m\n",
      "\u001b[37m\t[DEBUG]: \tmessage: Versipy auto bump-up\u001b[0m\n",
      "\u001b[37m\t[DEBUG]: \tverbose: True\u001b[0m\n",
      "\u001b[37m\t[DEBUG]: \tquiet: False\u001b[0m\n",
      "\u001b[37m\t[DEBUG]: \tkwargs\u001b[0m\n",
      "\u001b[37m\t[DEBUG]: Loading versipy YAML file\u001b[0m\n",
      "\u001b[37m\t[DEBUG]: Checking file structure\u001b[0m\n",
      "\u001b[37m\t[DEBUG]: Checking version\u001b[0m\n",
      "\u001b[32m\tIncrementing version number\u001b[0m\n",
      "\u001b[37m\t[DEBUG]: Increment micro level and reset all lower levels\u001b[0m\n",
      "\u001b[37m\t[DEBUG]: Increment post level and reset all lower levels\u001b[0m\n",
      "\u001b[37m\t[DEBUG]: Updated version values\u001b[0m\n",
      "\u001b[37m\t[DEBUG]: \tmajor: 0\u001b[0m\n",
      "\u001b[37m\t[DEBUG]: \tminor: 1\u001b[0m\n",
      "\u001b[37m\t[DEBUG]: \tmicro: 3\u001b[0m\n",
      "\u001b[37m\t[DEBUG]: \ta: None\u001b[0m\n",
      "\u001b[37m\t[DEBUG]: \tb: None\u001b[0m\n",
      "\u001b[37m\t[DEBUG]: \trc: None\u001b[0m\n",
      "\u001b[37m\t[DEBUG]: \tpost: 1\u001b[0m\n",
      "\u001b[37m\t[DEBUG]: \tdev: None\u001b[0m\n",
      "\u001b[32m\tUpdate managed files\u001b[0m\n",
      "\u001b[37m\t[DEBUG]: Updating file setup.py\u001b[0m\n",
      "\u001b[37m\t[DEBUG]: Updating file meta.yaml\u001b[0m\n",
      "\u001b[37m\t[DEBUG]: Updating file versipy/__init__.py\u001b[0m\n",
      "\u001b[37m\t[DEBUG]: Updating versipy template yaml file\u001b[0m\n",
      "\u001b[37m\t[DEBUG]: Updating versipy history file\u001b[0m\n",
      "\u001b[01;34m## Version updated: 0.1.2a2.dev1 > 0.1.3.post1 ##\u001b[0m\n"
     ]
    }
   ],
   "source": [
    "bump_up_version(micro=True, post=True, overwrite_all=True, verbose=True)"
   ]
  },
  {
   "cell_type": "code",
   "execution_count": null,
   "metadata": {},
   "outputs": [],
   "source": []
  },
  {
   "cell_type": "code",
   "execution_count": null,
   "metadata": {},
   "outputs": [],
   "source": []
  },
  {
   "cell_type": "code",
   "execution_count": 130,
   "metadata": {
    "ExecuteTime": {
     "end_time": "2020-10-23T11:08:52.832205Z",
     "start_time": "2020-10-23T11:08:52.825505Z"
    }
   },
   "outputs": [
    {
     "name": "stdout",
     "output_type": "stream",
     "text": [
      "OrderedDict([('major', 1), ('minor', 1), ('micro', 1), ('a', 1), ('b', None), ('rc', None), ('post', 1), ('dev', 0)])\n",
      "1.1.1a1.post1.dev0\n"
     ]
    }
   ],
   "source": []
  },
  {
   "cell_type": "code",
   "execution_count": 89,
   "metadata": {
    "ExecuteTime": {
     "end_time": "2020-10-21T15:04:02.871677Z",
     "start_time": "2020-10-21T15:04:02.830954Z"
    }
   },
   "outputs": [],
   "source": [
    "def make_versipy_template(versipy_fn=\"versipy.yaml\", overwrite=False):\n",
    "    info_d = OrderedDict()\n",
    "    \n",
    "    # Version section\n",
    "    info_d[\"version\"] = OrderedDict()\n",
    "    info_d[\"version\"][\"major\"] = 0\n",
    "    info_d[\"version\"][\"minor\"] = 0\n",
    "    info_d[\"version\"][\"micro\"] = 0\n",
    "    info_d[\"version\"][\"alpha\"] = None \n",
    "    info_d[\"version\"][\"beta\"] = None \n",
    "    info_d[\"version\"][\"rc\"] = None \n",
    "    info_d[\"version\"][\"post\"] = None \n",
    "    info_d[\"version\"][\"dev\"] = None \n",
    "    \n",
    "    # Managed values section \n",
    "    info_d[\"managed_values\"] = OrderedDict()\n",
    "    info_d[\"managed_values\"][\"NAME\"] = [\"package name\"]\n",
    "    info_d[\"managed_values\"][\"DESCRIPTION\"] = [\"package description\"]\n",
    "    info_d[\"managed_values\"][\"URL\"] = [\"package URL\"]\n",
    "    info_d[\"managed_values\"][\"AUTHOR\"] = [\"author name\"]\n",
    "    info_d[\"managed_values\"][\"EMAIL\"] = [\"author contact\"]\n",
    "    info_d[\"managed_values\"][\"LICENSE\"] = [\"licence\"]\n",
    "    \n",
    "    # Managed files section \n",
    "    info_d[\"managed_files\"] = OrderedDict()\n",
    "    info_d[\"managed_files\"][\"versipy_templates/setup.py\"] = \"setup.py\"\n",
    "    info_d[\"managed_files\"][\"versipy_templates/meta.yaml\"] = \"meta.yaml\"\n",
    "    info_d[\"managed_files\"][\"versipy_templates/__init__.py\"] = \"versipy/__init__.py\"\n",
    "    \n",
    "    if not overwrite and os.path.isfile(versipy_fn):\n",
    "        raise ValueError(\"template yaml file already exist. Rerun with 'overwrite' option to replace existing file\")\n",
    "    ordered_dump_yaml(info_d, versipy_fn, Dumper=yaml.Dumper)"
   ]
  },
  {
   "cell_type": "code",
   "execution_count": 100,
   "metadata": {
    "ExecuteTime": {
     "end_time": "2020-10-21T15:07:35.068718Z",
     "start_time": "2020-10-21T15:07:35.044932Z"
    },
    "scrolled": false
   },
   "outputs": [
    {
     "name": "stdout",
     "output_type": "stream",
     "text": [
      "Previous version: 2.1.0\n",
      "Current version: 3.1.0.dev1\n",
      "\tGenerating file setup.py\n",
      "\tGenerating file meta.yaml\n",
      "\tGenerating file versipy/__init__.py\n",
      "Updating versipy template yaml file\n"
     ]
    }
   ],
   "source": [
    "bump_up(major=True,minor=True,dev=True)"
   ]
  },
  {
   "cell_type": "code",
   "execution_count": 98,
   "metadata": {
    "ExecuteTime": {
     "end_time": "2020-10-21T15:06:47.498555Z",
     "start_time": "2020-10-21T15:06:47.489506Z"
    }
   },
   "outputs": [],
   "source": [
    "make_versipy_template(\"versipy_2.yaml\", overwrite=True)"
   ]
  }
 ],
 "metadata": {
  "celltoolbar": "Initialization Cell",
  "hide_input": false,
  "kernelspec": {
   "display_name": "Python [conda env:versipy]",
   "language": "python",
   "name": "conda-env-versipy-py"
  },
  "language_info": {
   "codemirror_mode": {
    "name": "ipython",
    "version": 3
   },
   "file_extension": ".py",
   "mimetype": "text/x-python",
   "name": "python",
   "nbconvert_exporter": "python",
   "pygments_lexer": "ipython3",
   "version": "3.7.9"
  }
 },
 "nbformat": 4,
 "nbformat_minor": 2
}
