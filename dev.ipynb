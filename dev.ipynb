{
 "cells": [
  {
   "cell_type": "code",
   "execution_count": 8,
   "metadata": {
    "ExecuteTime": {
     "end_time": "2020-10-26T21:43:13.287277Z",
     "start_time": "2020-10-26T21:43:13.279081Z"
    },
    "init_cell": true
   },
   "outputs": [],
   "source": [
    "from versipy.common import *\n",
    "from versipy.versipy import bump_up_version, current_version, set_version, init_repo"
   ]
  },
  {
   "cell_type": "code",
   "execution_count": 2,
   "metadata": {
    "ExecuteTime": {
     "end_time": "2020-10-26T17:59:25.583955Z",
     "start_time": "2020-10-26T17:59:22.929428Z"
    }
   },
   "outputs": [
    {
     "name": "stderr",
     "output_type": "stream",
     "text": [
      "\u001b[01;34m## Generating example template versipy YAML file ##\u001b[0m\n"
     ]
    },
    {
     "name": "stdout",
     "output_type": "stream",
     "text": [
      "Overwrite existing versipy files? [y,n]y\n"
     ]
    }
   ],
   "source": [
    "init_repo(versipy_fn=\"versipy2.yaml\", versipy_history_fn=\"versipy_history2.txt\")"
   ]
  },
  {
   "cell_type": "code",
   "execution_count": 10,
   "metadata": {
    "ExecuteTime": {
     "end_time": "2020-10-26T21:43:19.060030Z",
     "start_time": "2020-10-26T21:43:19.023225Z"
    }
   },
   "outputs": [
    {
     "name": "stderr",
     "output_type": "stream",
     "text": [
      "\u001b[01;34m## Bumping up version package version ##\u001b[0m\n",
      "\u001b[32m\tChecking options and input files\u001b[0m\n",
      "\u001b[37m\t[DEBUG]: Options summary\u001b[0m\n",
      "\u001b[37m\t[DEBUG]: \tPackage name: versipy\u001b[0m\n",
      "\u001b[37m\t[DEBUG]: \tPackage version: 0.1.6.post1\u001b[0m\n",
      "\u001b[37m\t[DEBUG]: \tTimestamp: 2020-10-26 21:43:19.028409\u001b[0m\n",
      "\u001b[37m\t[DEBUG]: \tversipy_fn: versipy.yaml\u001b[0m\n",
      "\u001b[37m\t[DEBUG]: \tverbose: True\u001b[0m\n",
      "\u001b[37m\t[DEBUG]: \tquiet: False\u001b[0m\n",
      "\u001b[37m\t[DEBUG]: \tkwargs\u001b[0m\n",
      "\u001b[37m\t[DEBUG]: Loading versipy YAML file\u001b[0m\n",
      "\u001b[37m\t[DEBUG]: Checking file structure\u001b[0m\n",
      "\u001b[37m\t[DEBUG]: Checking version\u001b[0m\n"
     ]
    },
    {
     "name": "stdout",
     "output_type": "stream",
     "text": [
      "0.0"
     ]
    }
   ],
   "source": [
    "current_version(verbose=True)"
   ]
  },
  {
   "cell_type": "code",
   "execution_count": 7,
   "metadata": {
    "ExecuteTime": {
     "end_time": "2020-10-26T18:05:28.850114Z",
     "start_time": "2020-10-26T18:05:28.746262Z"
    },
    "scrolled": false
   },
   "outputs": [
    {
     "name": "stderr",
     "output_type": "stream",
     "text": [
      "\u001b[01;34m## Bump up version package version ##\u001b[0m\n",
      "\u001b[32m\tChecking options and input files\u001b[0m\n",
      "\u001b[37m\t[DEBUG]: Options summary\u001b[0m\n",
      "\u001b[37m\t[DEBUG]: \tPackage name: versipy\u001b[0m\n",
      "\u001b[37m\t[DEBUG]: \tPackage version: 0.1.6.post1\u001b[0m\n",
      "\u001b[37m\t[DEBUG]: \tTimestamp: 2020-10-26 18:05:28.749280\u001b[0m\n",
      "\u001b[37m\t[DEBUG]: \tversion_str: 0.0\u001b[0m\n",
      "\u001b[37m\t[DEBUG]: \tversipy_fn: versipy.yaml\u001b[0m\n",
      "\u001b[37m\t[DEBUG]: \tversipy_history_fn: versipy_history.txt\u001b[0m\n",
      "\u001b[37m\t[DEBUG]: \toverwrite: True\u001b[0m\n",
      "\u001b[37m\t[DEBUG]: \tgit_push: False\u001b[0m\n",
      "\u001b[37m\t[DEBUG]: \tmessage: Manually set version\u001b[0m\n",
      "\u001b[37m\t[DEBUG]: \tdry: False\u001b[0m\n",
      "\u001b[37m\t[DEBUG]: \tverbose: True\u001b[0m\n",
      "\u001b[37m\t[DEBUG]: \tquiet: False\u001b[0m\n",
      "\u001b[37m\t[DEBUG]: \tkwargs\u001b[0m\n",
      "\u001b[37m\t[DEBUG]: Loading versipy YAML file\u001b[0m\n",
      "\u001b[37m\t[DEBUG]: Checking file structure\u001b[0m\n",
      "\u001b[37m\t[DEBUG]: Checking version\u001b[0m\n",
      "\u001b[32m\tSet version number\u001b[0m\n",
      "\u001b[37m\t[DEBUG]: Split version number into a list\u001b[0m\n",
      "\u001b[37m\t[DEBUG]: Store list values in version dictionary\u001b[0m\n",
      "\u001b[37m\t[DEBUG]: Updated version values\u001b[0m\n",
      "\u001b[37m\t[DEBUG]: \tmajor: 0\u001b[0m\n",
      "\u001b[37m\t[DEBUG]: \tminor: 0\u001b[0m\n",
      "\u001b[37m\t[DEBUG]: \tmicro: None\u001b[0m\n",
      "\u001b[37m\t[DEBUG]: \ta: None\u001b[0m\n",
      "\u001b[37m\t[DEBUG]: \tb: None\u001b[0m\n",
      "\u001b[37m\t[DEBUG]: \trc: None\u001b[0m\n",
      "\u001b[37m\t[DEBUG]: \tpost: None\u001b[0m\n",
      "\u001b[37m\t[DEBUG]: \tdev: None\u001b[0m\n",
      "\u001b[32m\tUpdate managed files\u001b[0m\n",
      "\u001b[37m\t[DEBUG]: Updating file setup.py\u001b[0m\n",
      "\u001b[37m\t[DEBUG]: Updating file meta.yaml\u001b[0m\n",
      "\u001b[37m\t[DEBUG]: Updating file versipy/__init__.py\u001b[0m\n",
      "\u001b[37m\t[DEBUG]: Updating file README.md\u001b[0m\n",
      "\u001b[37m\t[DEBUG]: Updating versipy template yaml file\u001b[0m\n",
      "\u001b[37m\t[DEBUG]: Updating versipy history file\u001b[0m\n",
      "\u001b[01;34m## Version updated: 0.1.3.post1 > 0.0 ##\u001b[0m\n"
     ]
    }
   ],
   "source": [
    "set_version(\"0.0\", overwrite=True, verbose=True)"
   ]
  },
  {
   "cell_type": "code",
   "execution_count": 6,
   "metadata": {
    "ExecuteTime": {
     "end_time": "2020-10-26T18:04:54.222075Z",
     "start_time": "2020-10-26T18:04:54.080853Z"
    }
   },
   "outputs": [
    {
     "name": "stderr",
     "output_type": "stream",
     "text": [
      "\u001b[01;34m## Bump up version package version ##\u001b[0m\n",
      "\u001b[32m\tChecking options and input files\u001b[0m\n",
      "\u001b[37m\t[DEBUG]: Options summary\u001b[0m\n",
      "\u001b[37m\t[DEBUG]: \tPackage name: versipy\u001b[0m\n",
      "\u001b[37m\t[DEBUG]: \tPackage version: 0.1.6.post1\u001b[0m\n",
      "\u001b[37m\t[DEBUG]: \tTimestamp: 2020-10-26 18:04:54.085250\u001b[0m\n",
      "\u001b[37m\t[DEBUG]: \tmajor: False\u001b[0m\n",
      "\u001b[37m\t[DEBUG]: \tminor: False\u001b[0m\n",
      "\u001b[37m\t[DEBUG]: \tmicro: True\u001b[0m\n",
      "\u001b[37m\t[DEBUG]: \talpha: False\u001b[0m\n",
      "\u001b[37m\t[DEBUG]: \tbeta: False\u001b[0m\n",
      "\u001b[37m\t[DEBUG]: \trc: False\u001b[0m\n",
      "\u001b[37m\t[DEBUG]: \tpost: True\u001b[0m\n",
      "\u001b[37m\t[DEBUG]: \tdev: False\u001b[0m\n",
      "\u001b[37m\t[DEBUG]: \tversipy_fn: versipy.yaml\u001b[0m\n",
      "\u001b[37m\t[DEBUG]: \tversipy_history_fn: versipy_history.txt\u001b[0m\n",
      "\u001b[37m\t[DEBUG]: \toverwrite: True\u001b[0m\n",
      "\u001b[37m\t[DEBUG]: \tgit_push: False\u001b[0m\n",
      "\u001b[37m\t[DEBUG]: \tmessage: Versipy auto bump-up\u001b[0m\n",
      "\u001b[37m\t[DEBUG]: \tdry: False\u001b[0m\n",
      "\u001b[37m\t[DEBUG]: \tverbose: True\u001b[0m\n",
      "\u001b[37m\t[DEBUG]: \tquiet: False\u001b[0m\n",
      "\u001b[37m\t[DEBUG]: \tkwargs\u001b[0m\n",
      "\u001b[37m\t[DEBUG]: Loading versipy YAML file\u001b[0m\n",
      "\u001b[37m\t[DEBUG]: Checking file structure\u001b[0m\n",
      "\u001b[37m\t[DEBUG]: Checking version\u001b[0m\n",
      "\u001b[32m\tIncrementing version number\u001b[0m\n",
      "\u001b[37m\t[DEBUG]: Increment micro level and reset all lower levels\u001b[0m\n",
      "\u001b[37m\t[DEBUG]: Increment post level and reset all lower levels\u001b[0m\n",
      "\u001b[37m\t[DEBUG]: Updated version values\u001b[0m\n",
      "\u001b[37m\t[DEBUG]: \tmajor: 0\u001b[0m\n",
      "\u001b[37m\t[DEBUG]: \tminor: 1\u001b[0m\n",
      "\u001b[37m\t[DEBUG]: \tmicro: 3\u001b[0m\n",
      "\u001b[37m\t[DEBUG]: \ta: None\u001b[0m\n",
      "\u001b[37m\t[DEBUG]: \tb: None\u001b[0m\n",
      "\u001b[37m\t[DEBUG]: \trc: None\u001b[0m\n",
      "\u001b[37m\t[DEBUG]: \tpost: 1\u001b[0m\n",
      "\u001b[37m\t[DEBUG]: \tdev: None\u001b[0m\n",
      "\u001b[32m\tUpdate managed files\u001b[0m\n",
      "\u001b[37m\t[DEBUG]: Updating file setup.py\u001b[0m\n",
      "\u001b[37m\t[DEBUG]: Updating file meta.yaml\u001b[0m\n",
      "\u001b[37m\t[DEBUG]: Updating file versipy/__init__.py\u001b[0m\n",
      "\u001b[37m\t[DEBUG]: Updating file README.md\u001b[0m\n",
      "\u001b[37m\t[DEBUG]: Updating versipy template yaml file\u001b[0m\n",
      "\u001b[37m\t[DEBUG]: Updating versipy history file\u001b[0m\n",
      "\u001b[01;34m## Version updated: 0.1.2b2.dev5 > 0.1.3.post1 ##\u001b[0m\n"
     ]
    }
   ],
   "source": [
    "bump_up_version(minor=True, dev=True, overwrite=True, verbose=True, git)"
   ]
  }
 ],
 "metadata": {
  "celltoolbar": "Initialization Cell",
  "hide_input": false,
  "kernelspec": {
   "display_name": "Python [conda env:versipy]",
   "language": "python",
   "name": "conda-env-versipy-py"
  },
  "language_info": {
   "codemirror_mode": {
    "name": "ipython",
    "version": 3
   },
   "file_extension": ".py",
   "mimetype": "text/x-python",
   "name": "python",
   "nbconvert_exporter": "python",
   "pygments_lexer": "ipython3",
   "version": "3.7.9"
  }
 },
 "nbformat": 4,
 "nbformat_minor": 2
}
